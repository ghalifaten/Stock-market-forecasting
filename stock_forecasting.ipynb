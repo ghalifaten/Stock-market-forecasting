{
 "cells": [
  {
   "cell_type": "code",
   "execution_count": 16,
   "id": "0248d3b8",
   "metadata": {},
   "outputs": [
    {
     "data": {
      "text/plain": [
       "True"
      ]
     },
     "execution_count": 16,
     "metadata": {},
     "output_type": "execute_result"
    }
   ],
   "source": [
    "import os\n",
    "from dotenv import load_dotenv\n",
    "from polygon import RESTClient\n",
    "import json\n",
    "from typing import cast\n",
    "from urllib3 import HTTPResponse\n",
    "from datetime import datetime, timedelta\n",
    "import pandas as pd\n",
    "load_dotenv() "
   ]
  },
  {
   "cell_type": "code",
   "execution_count": 11,
   "id": "53b093e8",
   "metadata": {},
   "outputs": [],
   "source": [
    "client = RESTClient(api_key=os.getenv(\"API_KEY\"))\n",
    "ticker = 'AAPL'\n",
    "start_date = datetime.today() - timedelta(days=7)\n",
    "end_date = datetime.today()"
   ]
  },
  {
   "cell_type": "code",
   "execution_count": 14,
   "id": "ea03738c",
   "metadata": {},
   "outputs": [],
   "source": [
    "aggs = cast(\n",
    "    HTTPResponse,\n",
    "    client.get_aggs(\n",
    "        ticker=ticker,\n",
    "        multiplier=1,\n",
    "        timespan='day',\n",
    "        from_=start_date,\n",
    "        to=end_date,\n",
    "        raw=True \n",
    "    )\n",
    ")"
   ]
  },
  {
   "cell_type": "code",
   "execution_count": 18,
   "id": "4674baa0",
   "metadata": {},
   "outputs": [
    {
     "data": {
      "text/html": [
       "<div>\n",
       "<style scoped>\n",
       "    .dataframe tbody tr th:only-of-type {\n",
       "        vertical-align: middle;\n",
       "    }\n",
       "\n",
       "    .dataframe tbody tr th {\n",
       "        vertical-align: top;\n",
       "    }\n",
       "\n",
       "    .dataframe thead th {\n",
       "        text-align: right;\n",
       "    }\n",
       "</style>\n",
       "<table border=\"1\" class=\"dataframe\">\n",
       "  <thead>\n",
       "    <tr style=\"text-align: right;\">\n",
       "      <th></th>\n",
       "      <th>ticker</th>\n",
       "      <th>queryCount</th>\n",
       "      <th>resultsCount</th>\n",
       "      <th>adjusted</th>\n",
       "      <th>results</th>\n",
       "      <th>status</th>\n",
       "      <th>request_id</th>\n",
       "      <th>count</th>\n",
       "    </tr>\n",
       "  </thead>\n",
       "  <tbody>\n",
       "    <tr>\n",
       "      <th>0</th>\n",
       "      <td>AAPL</td>\n",
       "      <td>5</td>\n",
       "      <td>5</td>\n",
       "      <td>True</td>\n",
       "      <td>{'v': 43904635.0, 'vw': 198.7007, 'o': 199.08,...</td>\n",
       "      <td>DELAYED</td>\n",
       "      <td>9b7e39d629dbdf576aa72f5adf225b8d</td>\n",
       "      <td>5</td>\n",
       "    </tr>\n",
       "    <tr>\n",
       "      <th>1</th>\n",
       "      <td>AAPL</td>\n",
       "      <td>5</td>\n",
       "      <td>5</td>\n",
       "      <td>True</td>\n",
       "      <td>{'v': 51447349.0, 'vw': 197.0361, 'o': 199.73,...</td>\n",
       "      <td>DELAYED</td>\n",
       "      <td>9b7e39d629dbdf576aa72f5adf225b8d</td>\n",
       "      <td>5</td>\n",
       "    </tr>\n",
       "    <tr>\n",
       "      <th>2</th>\n",
       "      <td>AAPL</td>\n",
       "      <td>5</td>\n",
       "      <td>5</td>\n",
       "      <td>True</td>\n",
       "      <td>{'v': 43020691.0, 'vw': 197.8895, 'o': 197.3, ...</td>\n",
       "      <td>DELAYED</td>\n",
       "      <td>9b7e39d629dbdf576aa72f5adf225b8d</td>\n",
       "      <td>5</td>\n",
       "    </tr>\n",
       "    <tr>\n",
       "      <th>3</th>\n",
       "      <td>AAPL</td>\n",
       "      <td>5</td>\n",
       "      <td>5</td>\n",
       "      <td>True</td>\n",
       "      <td>{'v': 38856152.0, 'vw': 196.4948, 'o': 197.2, ...</td>\n",
       "      <td>DELAYED</td>\n",
       "      <td>9b7e39d629dbdf576aa72f5adf225b8d</td>\n",
       "      <td>5</td>\n",
       "    </tr>\n",
       "    <tr>\n",
       "      <th>4</th>\n",
       "      <td>AAPL</td>\n",
       "      <td>5</td>\n",
       "      <td>5</td>\n",
       "      <td>True</td>\n",
       "      <td>{'v': 45394689.0, 'vw': 196.4448, 'o': 195.94,...</td>\n",
       "      <td>DELAYED</td>\n",
       "      <td>9b7e39d629dbdf576aa72f5adf225b8d</td>\n",
       "      <td>5</td>\n",
       "    </tr>\n",
       "  </tbody>\n",
       "</table>\n",
       "</div>"
      ],
      "text/plain": [
       "  ticker  queryCount  resultsCount  adjusted  \\\n",
       "0   AAPL           5             5      True   \n",
       "1   AAPL           5             5      True   \n",
       "2   AAPL           5             5      True   \n",
       "3   AAPL           5             5      True   \n",
       "4   AAPL           5             5      True   \n",
       "\n",
       "                                             results   status  \\\n",
       "0  {'v': 43904635.0, 'vw': 198.7007, 'o': 199.08,...  DELAYED   \n",
       "1  {'v': 51447349.0, 'vw': 197.0361, 'o': 199.73,...  DELAYED   \n",
       "2  {'v': 43020691.0, 'vw': 197.8895, 'o': 197.3, ...  DELAYED   \n",
       "3  {'v': 38856152.0, 'vw': 196.4948, 'o': 197.2, ...  DELAYED   \n",
       "4  {'v': 45394689.0, 'vw': 196.4448, 'o': 195.94,...  DELAYED   \n",
       "\n",
       "                         request_id  count  \n",
       "0  9b7e39d629dbdf576aa72f5adf225b8d      5  \n",
       "1  9b7e39d629dbdf576aa72f5adf225b8d      5  \n",
       "2  9b7e39d629dbdf576aa72f5adf225b8d      5  \n",
       "3  9b7e39d629dbdf576aa72f5adf225b8d      5  \n",
       "4  9b7e39d629dbdf576aa72f5adf225b8d      5  "
      ]
     },
     "execution_count": 18,
     "metadata": {},
     "output_type": "execute_result"
    }
   ],
   "source": [
    "data = json.loads(aggs.data)\n",
    "df = pd.DataFrame(data)\n",
    "df"
   ]
  },
  {
   "cell_type": "code",
   "execution_count": null,
   "id": "3fc2240d",
   "metadata": {},
   "outputs": [],
   "source": []
  }
 ],
 "metadata": {
  "kernelspec": {
   "display_name": "stock_venv",
   "language": "python",
   "name": "python3"
  },
  "language_info": {
   "codemirror_mode": {
    "name": "ipython",
    "version": 3
   },
   "file_extension": ".py",
   "mimetype": "text/x-python",
   "name": "python",
   "nbconvert_exporter": "python",
   "pygments_lexer": "ipython3",
   "version": "3.13.5"
  }
 },
 "nbformat": 4,
 "nbformat_minor": 5
}
